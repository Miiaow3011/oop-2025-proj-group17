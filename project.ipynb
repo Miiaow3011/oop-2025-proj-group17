{
 "cells": [
  {
   "cell_type": "markdown",
   "metadata": {},
   "source": [
    "題目大綱：\n",
    "《末日便利商店》\n",
    "\n",
    "你是一名臨時收銀員，因為某種災難（例如：殭屍爆發、外星人入侵或自然災害），便利商店成了唯一的庇護所。玩家必須透過對話選項、簡單的戰鬥，以及探索商店內外的區域來生存，最終找到逃離的方法或安全的避難所。"
   ]
  },
  {
   "cell_type": "markdown",
   "metadata": {},
   "source": [
    "主要玩法：\n",
    "\n",
    "文字冒險：主要以文字對話框展示故事，玩家透過選項決定劇情走向。\n",
    "小型探索：在便利商店內探索不同的區域（如收銀台、儲藏室、冷凍櫃等），觸發事件（物品、敵人、劇情）。\n",
    "戰鬥系統：簡單的文字回合制戰鬥（例如：選擇攻擊、防禦、逃跑），用來對抗敵人（殭屍、外星人）。\n",
    "道具系統：玩家可在探索中找到道具（食物、武器、醫藥包），並在戰鬥或特定事件中使用。"
   ]
  },
  {
   "cell_type": "markdown",
   "metadata": {},
   "source": [
    "排程：\n",
    "天數    內容\n",
    "\n",
    "6/7\t討論主題、角色分工、劇本初稿。\n",
    "\n",
    "6/8\t建立Pygame文字介面原型（背景、選項）。\n",
    "\n",
    "6/9\t載入劇本資料（JSON/Python dict）。\n",
    "\n",
    "6/10\t實作戰鬥系統（簡易AI、血量管理）。\n",
    "\n",
    "6/11\t加入道具系統（背包、使用道具）。\n",
    "\n",
    "6/12\t結局分支與整合。\n",
    "\n",
    "6/13\t測試修正、細節潤飾、報告準備。"
   ]
  },
  {
   "cell_type": "markdown",
   "metadata": {},
   "source": [
    "主要功能分工（建議三人分工）：\n",
    "\n",
    "故事/劇本 + 遊戲流程（鄭茗仁）\n",
    "\n",
    "    撰寫主要劇情與分支選項（建議用JSON或Python字典儲存）。\n",
    "\n",
    "    設計對話選單結構（選項A/B/C等）。\n",
    "\n",
    "    設計結局（好結局、壞結局）。\n",
    "\n",
    "Pygame文字系統 + UI（蔡惠妙）\n",
    "\n",
    "    用Pygame畫出文字框（可使用pygame.font）。\n",
    "\n",
    "    做選項選擇（上下選單 + Enter確認）。\n",
    "\n",
    "    做簡易的畫面切換（例如：便利商店背景圖、黑屏過場等）。\n",
    "\n",
    "戰鬥/道具系統 + 事件（廖育嫺）\n",
    "\n",
    "    實作回合制戰鬥（隨機敵人血量、防禦、簡易AI）。\n",
    "\n",
    "    設計道具（影響血量、攻擊力、劇情觸發等）。\n",
    "\n",
    "    設計探索地圖（以簡單的選單方式：例如「前往冷凍櫃」）。"
   ]
  }
 ],
 "metadata": {
  "kernelspec": {
   "display_name": "Python 3",
   "language": "python",
   "name": "python3"
  },
  "language_info": {
   "codemirror_mode": {
    "name": "ipython",
    "version": 3
   },
   "file_extension": ".py",
   "mimetype": "text/x-python",
   "name": "python",
   "nbconvert_exporter": "python",
   "pygments_lexer": "ipython3",
   "version": "3.10.12"
  }
 },
 "nbformat": 4,
 "nbformat_minor": 2
}
